{
 "cells": [
  {
   "metadata": {},
   "cell_type": "markdown",
   "source": [
    "### ER-2068, Eka Tsilosani\n",
    "### ER-2067, Temur Tsomaia"
   ],
   "id": "a373b1e577d8c1ca"
  },
  {
   "metadata": {},
   "cell_type": "markdown",
   "source": "This report uses the PuLP library to solve a production optimization problem for the Johnson & Sons company. The goal is to determine the optimal production mix of six different toys to maximize weekly income, subject to constraints on machine availability and specific market-driven production ratios.",
   "id": "bab12f9fc5265e8e"
  },
  {
   "metadata": {
    "ExecuteTime": {
     "end_time": "2025-10-22T18:32:29.271359Z",
     "start_time": "2025-10-22T18:32:29.266185Z"
    }
   },
   "cell_type": "markdown",
   "source": [
    "Let \\(x_A, x_B, ..., x_F\\) be the number of toys of each type to manufacture.\n",
    "\n",
    "### Objective Function\n",
    "The objective is to maximize the total income (Z):\n",
    "\n",
    "Z = 2.5x_A + 1.0x_B + 4.0x_C + 3.0x_D + 3.5x_E + 4.0x_F\n",
    "\n",
    "### Constraints\n",
    "**Machine Time Constraints (in minutes):**\n",
    "*   Machine 1: \\( 4x_A + 5x_C + 2x_D + 2x_F \\leq 7200 \\)\n",
    "*   Machine 2: \\( 4x_A + 3x_B + 4x_D + 4x_E + 2x_F \\leq 3600 \\)\n",
    "*   Machine 3: \\( 3x_B + 2x_C + 5x_E + 1x_F \\leq 4800 \\)\n",
    "*   Machine 4: \\( 5x_C + 4x_D + 2x_E + 1x_F \\leq 7200 \\)\n",
    "\n",
    "**Market Constraints:**\n",
    "*   \\( x_F = 2x_A \\)\n",
    "*   \\( x_B = x_C \\)"
   ],
   "id": "c37c2f2e6b91658b"
  },
  {
   "metadata": {
    "ExecuteTime": {
     "end_time": "2025-10-22T20:33:13.921068Z",
     "start_time": "2025-10-22T20:33:13.876053Z"
    }
   },
   "cell_type": "code",
   "source": [
    "from pulp import *\n",
    "import pandas as pd\n",
    "\n",
    "# Initialize the Model\n",
    "model = LpProblem(name=\"Johnson-And-Sons-Toys\", sense=LpMaximize)\n",
    "\n",
    "# Define Decision Variables\n",
    "toy_names = ['A', 'B', 'C', 'D', 'E', 'F']\n",
    "x = LpVariable.dicts(\"num_toys\", toy_names, lowBound=0, cat='Continuous')\n",
    "\n",
    "# Define Problem Data\n",
    "machine_data = {\n",
    "    # Toy: [Machine1, Machine2, Machine3, Machine4] (in minutes)\n",
    "    'A': [4, 4, 0, 0], 'B': [0, 3, 3, 0], 'C': [5, 0, 2, 5],\n",
    "    'D': [2, 4, 0, 4], 'E': [0, 4, 5, 2], 'F': [2, 2, 1, 1]\n",
    "}\n",
    "selling_prices = {'A': 2.5, 'B': 1.0, 'C': 4.0, 'D': 3.0, 'E': 3.5, 'F': 4.0}\n",
    "machine_availability = {\n",
    "    'Machine1': 120 * 60, 'Machine2': 60 * 60,\n",
    "    'Machine3': 80 * 60, 'Machine4': 120 * 60\n",
    "}\n",
    "\n",
    "# Define Objective Function\n",
    "model += lpSum([selling_prices[i] * x[i] for i in toy_names]), \"Total_Income\"\n",
    "\n",
    "# Define Constraints\n",
    "for m_idx, machine in enumerate(['Machine1', 'Machine2', 'Machine3', 'Machine4']):\n",
    "    model += lpSum([machine_data[toy][m_idx] * x[toy] for toy in toy_names]) <= machine_availability[machine], f\"{machine}_Constraint\"\n",
    "model += x['F'] == 2 * x['A'], \"Ratio_F_to_A\"\n",
    "model += x['B'] == x['C'], \"Ratio_B_to_C\"\n",
    "\n",
    "# Explicit solver command for reproducibility\n",
    "model.solve(PULP_CBC_CMD(msg=False))\n",
    "\n",
    "# Solve the Model\n",
    "model.solve()\n",
    "\n",
    "# Print the results for the report\n",
    "print(f\"Status: {LpStatus[model.status]}\")"
   ],
   "id": "4a5e771996741d9d",
   "outputs": [
    {
     "name": "stdout",
     "output_type": "stream",
     "text": [
      "Status: Optimal\n"
     ]
    }
   ],
   "execution_count": 19
  },
  {
   "metadata": {},
   "cell_type": "markdown",
   "source": [
    "## Results and Analysis\n",
    "\n",
    "The model found an optimal solution to the production problem.\n",
    "\n",
    "### The Number of Toys to Manufacture\n",
    "The optimal number of each toy to produce per week is:"
   ],
   "id": "cf1223dc5d745294"
  },
  {
   "metadata": {
    "ExecuteTime": {
     "end_time": "2025-10-22T20:33:47.986866Z",
     "start_time": "2025-10-22T20:33:47.982721Z"
    }
   },
   "cell_type": "code",
   "source": [
    "for toy in toy_names:\n",
    "    print(f\"- Toy {toy}: {x[toy].value():.2f} units\")"
   ],
   "id": "b77950aa950a1548",
   "outputs": [
    {
     "name": "stdout",
     "output_type": "stream",
     "text": [
      "- Toy A: 105.88 units\n",
      "- Toy B: 917.65 units\n",
      "- Toy C: 917.65 units\n",
      "- Toy D: 0.00 units\n",
      "- Toy E: 0.00 units\n",
      "- Toy F: 211.76 units\n"
     ]
    }
   ],
   "execution_count": 20
  },
  {
   "metadata": {
    "ExecuteTime": {
     "end_time": "2025-10-22T20:35:12.520728Z",
     "start_time": "2025-10-22T20:35:12.510524Z"
    }
   },
   "cell_type": "code",
   "source": [
    "df = pd.DataFrame({\n",
    "    'Toy': toy_names,\n",
    "    'Quantity': [x[t].value() for t in toy_names],\n",
    "    'Price (USD)': [selling_prices[t] for t in toy_names],\n",
    "    'Income (USD)': [selling_prices[t]*x[t].value() for t in toy_names]\n",
    "})\n",
    "df.loc['Total'] = ['—', '', '', df['Income (USD)'].sum()]\n",
    "display(df)\n",
    "\n",
    "# total income printout\n",
    "print(f\"\\nTotal Maximized Income : ${model.objective.value():.2f}\")"
   ],
   "id": "5ca6bf378847d94f",
   "outputs": [
    {
     "data": {
      "text/plain": [
       "      Toy   Quantity Price (USD)  Income (USD)\n",
       "0       A  105.88235         2.5    264.705875\n",
       "1       B  917.64706         1.0    917.647060\n",
       "2       C  917.64706         4.0   3670.588240\n",
       "3       D        0.0         3.0      0.000000\n",
       "4       E        0.0         3.5      0.000000\n",
       "5       F  211.76471         4.0    847.058840\n",
       "Total   —                          5700.000015"
      ],
      "text/html": [
       "<div>\n",
       "<style scoped>\n",
       "    .dataframe tbody tr th:only-of-type {\n",
       "        vertical-align: middle;\n",
       "    }\n",
       "\n",
       "    .dataframe tbody tr th {\n",
       "        vertical-align: top;\n",
       "    }\n",
       "\n",
       "    .dataframe thead th {\n",
       "        text-align: right;\n",
       "    }\n",
       "</style>\n",
       "<table border=\"1\" class=\"dataframe\">\n",
       "  <thead>\n",
       "    <tr style=\"text-align: right;\">\n",
       "      <th></th>\n",
       "      <th>Toy</th>\n",
       "      <th>Quantity</th>\n",
       "      <th>Price (USD)</th>\n",
       "      <th>Income (USD)</th>\n",
       "    </tr>\n",
       "  </thead>\n",
       "  <tbody>\n",
       "    <tr>\n",
       "      <th>0</th>\n",
       "      <td>A</td>\n",
       "      <td>105.88235</td>\n",
       "      <td>2.5</td>\n",
       "      <td>264.705875</td>\n",
       "    </tr>\n",
       "    <tr>\n",
       "      <th>1</th>\n",
       "      <td>B</td>\n",
       "      <td>917.64706</td>\n",
       "      <td>1.0</td>\n",
       "      <td>917.647060</td>\n",
       "    </tr>\n",
       "    <tr>\n",
       "      <th>2</th>\n",
       "      <td>C</td>\n",
       "      <td>917.64706</td>\n",
       "      <td>4.0</td>\n",
       "      <td>3670.588240</td>\n",
       "    </tr>\n",
       "    <tr>\n",
       "      <th>3</th>\n",
       "      <td>D</td>\n",
       "      <td>0.0</td>\n",
       "      <td>3.0</td>\n",
       "      <td>0.000000</td>\n",
       "    </tr>\n",
       "    <tr>\n",
       "      <th>4</th>\n",
       "      <td>E</td>\n",
       "      <td>0.0</td>\n",
       "      <td>3.5</td>\n",
       "      <td>0.000000</td>\n",
       "    </tr>\n",
       "    <tr>\n",
       "      <th>5</th>\n",
       "      <td>F</td>\n",
       "      <td>211.76471</td>\n",
       "      <td>4.0</td>\n",
       "      <td>847.058840</td>\n",
       "    </tr>\n",
       "    <tr>\n",
       "      <th>Total</th>\n",
       "      <td>—</td>\n",
       "      <td></td>\n",
       "      <td></td>\n",
       "      <td>5700.000015</td>\n",
       "    </tr>\n",
       "  </tbody>\n",
       "</table>\n",
       "</div>"
      ]
     },
     "metadata": {},
     "output_type": "display_data",
     "jetTransient": {
      "display_id": null
     }
    },
    {
     "name": "stdout",
     "output_type": "stream",
     "text": [
      "\n",
      "Total Maximized Income : $5700.00\n"
     ]
    }
   ],
   "execution_count": 22
  },
  {
   "metadata": {
    "ExecuteTime": {
     "end_time": "2025-10-22T20:37:23.135452Z",
     "start_time": "2025-10-22T20:37:23.118595Z"
    }
   },
   "cell_type": "code",
   "source": [
    "# machine utilization summary with slack and %\n",
    "machine_summary = []\n",
    "for m_idx, machine in enumerate(['Machine1', 'Machine2', 'Machine3', 'Machine4']):\n",
    "    used = sum(machine_data[toy][m_idx] * x[toy].value() for toy in toy_names)\n",
    "    limit = machine_availability[machine]\n",
    "    slack = limit - used\n",
    "    utilization = used / limit * 100\n",
    "    machine_summary.append([machine, used, limit, slack, utilization])\n",
    "\n",
    "util_df = pd.DataFrame(machine_summary, columns=['Machine', 'Used (min)', 'Capacity (min)', 'Slack (min)', 'Utilization (%)'])\n",
    "display(util_df)"
   ],
   "id": "500926fd1dcdac79",
   "outputs": [
    {
     "data": {
      "text/plain": [
       "    Machine  Used (min)  Capacity (min)  Slack (min)  Utilization (%)\n",
       "0  Machine1  5435.29412            7200   1764.70588        75.490196\n",
       "1  Machine2  3600.00000            3600      0.00000       100.000000\n",
       "2  Machine3  4800.00001            4800     -0.00001       100.000000\n",
       "3  Machine4  4800.00001            7200   2399.99999        66.666667"
      ],
      "text/html": [
       "<div>\n",
       "<style scoped>\n",
       "    .dataframe tbody tr th:only-of-type {\n",
       "        vertical-align: middle;\n",
       "    }\n",
       "\n",
       "    .dataframe tbody tr th {\n",
       "        vertical-align: top;\n",
       "    }\n",
       "\n",
       "    .dataframe thead th {\n",
       "        text-align: right;\n",
       "    }\n",
       "</style>\n",
       "<table border=\"1\" class=\"dataframe\">\n",
       "  <thead>\n",
       "    <tr style=\"text-align: right;\">\n",
       "      <th></th>\n",
       "      <th>Machine</th>\n",
       "      <th>Used (min)</th>\n",
       "      <th>Capacity (min)</th>\n",
       "      <th>Slack (min)</th>\n",
       "      <th>Utilization (%)</th>\n",
       "    </tr>\n",
       "  </thead>\n",
       "  <tbody>\n",
       "    <tr>\n",
       "      <th>0</th>\n",
       "      <td>Machine1</td>\n",
       "      <td>5435.29412</td>\n",
       "      <td>7200</td>\n",
       "      <td>1764.70588</td>\n",
       "      <td>75.490196</td>\n",
       "    </tr>\n",
       "    <tr>\n",
       "      <th>1</th>\n",
       "      <td>Machine2</td>\n",
       "      <td>3600.00000</td>\n",
       "      <td>3600</td>\n",
       "      <td>0.00000</td>\n",
       "      <td>100.000000</td>\n",
       "    </tr>\n",
       "    <tr>\n",
       "      <th>2</th>\n",
       "      <td>Machine3</td>\n",
       "      <td>4800.00001</td>\n",
       "      <td>4800</td>\n",
       "      <td>-0.00001</td>\n",
       "      <td>100.000000</td>\n",
       "    </tr>\n",
       "    <tr>\n",
       "      <th>3</th>\n",
       "      <td>Machine4</td>\n",
       "      <td>4800.00001</td>\n",
       "      <td>7200</td>\n",
       "      <td>2399.99999</td>\n",
       "      <td>66.666667</td>\n",
       "    </tr>\n",
       "  </tbody>\n",
       "</table>\n",
       "</div>"
      ]
     },
     "metadata": {},
     "output_type": "display_data",
     "jetTransient": {
      "display_id": null
     }
    }
   ],
   "execution_count": 24
  },
  {
   "metadata": {},
   "cell_type": "markdown",
   "source": "### Binding (Fully Utilized) Machines:",
   "id": "bf48d56bda7d0c99"
  },
  {
   "metadata": {
    "ExecuteTime": {
     "end_time": "2025-10-22T20:39:00.024080Z",
     "start_time": "2025-10-22T20:39:00.020036Z"
    }
   },
   "cell_type": "code",
   "source": [
    "for _, row in util_df.iterrows():\n",
    "    if abs(row['Slack (min)']) < 1e-5:\n",
    "        print(f\"- {row['Machine']} (100% utilized)\")\n",
    "    else:\n",
    "        print(f\"- {row['Machine']} has {row['Slack (min)']:.2f} min slack ({100 - row['Utilization (%)']:.2f}% free)\")\n"
   ],
   "id": "ed7c1c5a0f8651f6",
   "outputs": [
    {
     "name": "stdout",
     "output_type": "stream",
     "text": [
      "- Machine1 has 1764.71 min slack (24.51% free)\n",
      "- Machine2 (100% utilized)\n",
      "- Machine3 (100% utilized)\n",
      "- Machine4 has 2400.00 min slack (33.33% free)\n"
     ]
    }
   ],
   "execution_count": 28
  },
  {
   "metadata": {},
   "cell_type": "markdown",
   "source": "### Production Time Required on Each Machine (Minutes) :",
   "id": "dd27d03f30268ddf"
  },
  {
   "metadata": {
    "ExecuteTime": {
     "end_time": "2025-10-22T19:30:56.702005Z",
     "start_time": "2025-10-22T19:30:56.695669Z"
    }
   },
   "cell_type": "code",
   "source": [
    "for m_idx, machine in enumerate(['Machine1', 'Machine2', 'Machine3', 'Machine4']):\n",
    "\n",
    "    used_time = sum(machine_data[toy][m_idx] * x[toy].value() for toy in toy_names)\n",
    "    limit = machine_availability[machine]\n",
    "    slack = limit - used_time\n",
    "    print(f\"- **{machine}:** {used_time:.2f} used / {limit} limit (Slack: {slack:.2f})\")"
   ],
   "id": "e0747e83d6a10cef",
   "outputs": [
    {
     "name": "stdout",
     "output_type": "stream",
     "text": [
      "- **Machine1:** 5435.29 used / 7200 limit (Slack: 1764.71)\n",
      "- **Machine2:** 3600.00 used / 3600 limit (Slack: 0.00)\n",
      "- **Machine3:** 4800.00 used / 4800 limit (Slack: -0.00)\n",
      "- **Machine4:** 4800.00 used / 7200 limit (Slack: 2400.00)\n",
     ]
    }
   ],
   "execution_count": 15
  },
  {
   "metadata": {},
   "cell_type": "markdown",
   "source": "### Partial Income by Toy :",
   "id": "7116319aac53425"
  },
  {
   "metadata": {
    "ExecuteTime": {
     "end_time": "2025-10-22T19:30:56.751230Z",
     "start_time": "2025-10-22T19:30:56.747006Z"
    }
   },
   "cell_type": "code",
   "source": [
    "for toy in toy_names:\n",
    "    income = selling_prices[toy] * x[toy].value()\n",
    "    print(f\"- **Toy {toy}:** ${income:.2f}\")"
   ],
   "id": "2727a3208c276372",
   "outputs": [
    {
     "name": "stdout",
     "output_type": "stream",
     "text": [
      "- **Toy A:** $264.71\n",
      "- **Toy B:** $917.65\n",
      "- **Toy C:** $3670.59\n",
      "- **Toy D:** $0.00\n",
      "- **Toy E:** $0.00\n",
      "- **Toy F:** $847.06\n"
     ]
    }
   ],
   "execution_count": 16
  },
  {
   "metadata": {},
   "cell_type": "markdown",
   "source": "The total maximized income is:",
   "id": "2da5d5c0a3fcdc3a"
  },
  {
   "metadata": {
    "ExecuteTime": {
     "end_time": "2025-10-22T19:30:56.803007Z",
     "start_time": "2025-10-22T19:30:56.799271Z"
    }
   },
   "cell_type": "code",
   "source": "print(f\"${model.objective.value():.2f}\")",
   "id": "3ff6e7bb52e4e421",
   "outputs": [
    {
     "name": "stdout",
     "output_type": "stream",
     "text": [
      "$5700.00\n"
     ]
    }
   ],
   "execution_count": 17
  },
  {
   "metadata": {},
   "cell_type": "markdown",
   "source": [
    "## Answer Of The Questions\n",
    "\n",
    "#### Which toy(s) production should be focused on?\n",
    "Production should be focused on **Toys C, B, and F**. They generate the most income in the optimal solution.\n",
    "\n",
    "#### Is there a toy that can be excluded from consideration for production?\n",
    "Yes, **Toy D and Toy E** . The optimal solution is to produce 0 units of both D and E, meaning their resources are better used on other, more profitable toys.\n",
    "\n",
    "#### Is there a machine that is not fully utilized?\n",
    "Yes, Machines 1 and 4 are not fully utilized (Slack > 0). **Machines 2 and 3 are the bottlenecks** , running at 100% capacity and limiting further production.\n",
    "\n",
    "### Sensitivity insight\n",
    "Machine 2 and 3 constraints are binding — increasing their availability would increase income and producing more of toy F or C would be most beneficial if machine limits are relaxed.\n"
   ],
   "id": "fc1b4086ab303442"
  }
 ],
 "metadata": {
  "kernelspec": {
   "display_name": "Python 3",
   "language": "python",
   "name": "python3"
  },
  "language_info": {
   "codemirror_mode": {
    "name": "ipython",
    "version": 2
   },
   "file_extension": ".py",
   "mimetype": "text/x-python",
   "name": "python",
   "nbconvert_exporter": "python",
   "pygments_lexer": "ipython2",
   "version": "2.7.6"
  }
 },
 "nbformat": 4,
 "nbformat_minor": 5
}
